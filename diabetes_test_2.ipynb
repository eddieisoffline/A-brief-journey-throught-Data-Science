{
 "cells": [
  {
   "cell_type": "code",
   "execution_count": 1,
   "id": "d5f52757",
   "metadata": {
    "_cell_guid": "b1076dfc-b9ad-4769-8c92-a6c4dae69d19",
    "_uuid": "8f2839f25d086af736a60e9eeb907d3b93b6e0e5",
    "execution": {
     "iopub.execute_input": "2024-09-11T21:40:39.695910Z",
     "iopub.status.busy": "2024-09-11T21:40:39.694588Z",
     "iopub.status.idle": "2024-09-11T21:40:40.156173Z",
     "shell.execute_reply": "2024-09-11T21:40:40.154886Z"
    },
    "papermill": {
     "duration": 0.474234,
     "end_time": "2024-09-11T21:40:40.158885",
     "exception": false,
     "start_time": "2024-09-11T21:40:39.684651",
     "status": "completed"
    },
    "tags": []
   },
   "outputs": [
    {
     "name": "stdout",
     "output_type": "stream",
     "text": [
      "/kaggle/input/airbnb-listing-amsterdam/zWFyatkpQgWhcmrZKSIFDw_4743be8d1e1549b28060905e4a4c24f1_listings_m.xlsx\n"
     ]
    }
   ],
   "source": [
    "# This Python 3 environment comes with many helpful analytics libraries installed\n",
    "# It is defined by the kaggle/python Docker image: https://github.com/kaggle/docker-python\n",
    "# For example, here's several helpful packages to load\n",
    "\n",
    "import numpy as np # linear algebra\n",
    "import pandas as pd # data processing, CSV file I/O (e.g. pd.read_csv)\n",
    "\n",
    "# Input data files are available in the read-only \"../input/\" directory\n",
    "# For example, running this (by clicking run or pressing Shift+Enter) will list all files under the input directory\n",
    "\n",
    "import os\n",
    "for dirname, _, filenames in os.walk('/kaggle/input'):\n",
    "    for filename in filenames:\n",
    "        print(os.path.join(dirname, filename))\n",
    "\n",
    "# You can write up to 20GB to the current directory (/kaggle/working/) that gets preserved as output when you create a version using \"Save & Run All\" \n",
    "# You can also write temporary files to /kaggle/temp/, but they won't be saved outside of the current session"
   ]
  },
  {
   "cell_type": "code",
   "execution_count": 2,
   "id": "65173e97",
   "metadata": {
    "execution": {
     "iopub.execute_input": "2024-09-11T21:40:40.176115Z",
     "iopub.status.busy": "2024-09-11T21:40:40.175504Z",
     "iopub.status.idle": "2024-09-11T21:41:13.404257Z",
     "shell.execute_reply": "2024-09-11T21:41:13.402752Z"
    },
    "papermill": {
     "duration": 33.24023,
     "end_time": "2024-09-11T21:41:13.407251",
     "exception": false,
     "start_time": "2024-09-11T21:40:40.167021",
     "status": "completed"
    },
    "tags": []
   },
   "outputs": [],
   "source": [
    "df = pd.read_excel('/kaggle/input/airbnb-listing-amsterdam/zWFyatkpQgWhcmrZKSIFDw_4743be8d1e1549b28060905e4a4c24f1_listings_m.xlsx')"
   ]
  },
  {
   "cell_type": "code",
   "execution_count": 3,
   "id": "2326d04a",
   "metadata": {
    "execution": {
     "iopub.execute_input": "2024-09-11T21:41:13.424292Z",
     "iopub.status.busy": "2024-09-11T21:41:13.423084Z",
     "iopub.status.idle": "2024-09-11T21:41:13.481078Z",
     "shell.execute_reply": "2024-09-11T21:41:13.479927Z"
    },
    "papermill": {
     "duration": 0.068896,
     "end_time": "2024-09-11T21:41:13.483510",
     "exception": false,
     "start_time": "2024-09-11T21:41:13.414614",
     "status": "completed"
    },
    "tags": []
   },
   "outputs": [
    {
     "data": {
      "text/html": [
       "<div>\n",
       "<style scoped>\n",
       "    .dataframe tbody tr th:only-of-type {\n",
       "        vertical-align: middle;\n",
       "    }\n",
       "\n",
       "    .dataframe tbody tr th {\n",
       "        vertical-align: top;\n",
       "    }\n",
       "\n",
       "    .dataframe thead th {\n",
       "        text-align: right;\n",
       "    }\n",
       "</style>\n",
       "<table border=\"1\" class=\"dataframe\">\n",
       "  <thead>\n",
       "    <tr style=\"text-align: right;\">\n",
       "      <th></th>\n",
       "      <th>id</th>\n",
       "      <th>listing_url</th>\n",
       "      <th>scrape_id</th>\n",
       "      <th>last_scraped</th>\n",
       "      <th>name</th>\n",
       "      <th>description</th>\n",
       "      <th>neighborhood_overview</th>\n",
       "      <th>picture_url</th>\n",
       "      <th>host_id</th>\n",
       "      <th>host_url</th>\n",
       "      <th>...</th>\n",
       "      <th>review_scores_communication</th>\n",
       "      <th>review_scores_location</th>\n",
       "      <th>review_scores_value</th>\n",
       "      <th>license</th>\n",
       "      <th>instant_bookable</th>\n",
       "      <th>calculated_host_listings_count</th>\n",
       "      <th>calculated_host_listings_count_entire_homes</th>\n",
       "      <th>calculated_host_listings_count_private_rooms</th>\n",
       "      <th>calculated_host_listings_count_shared_rooms</th>\n",
       "      <th>reviews_per_month</th>\n",
       "    </tr>\n",
       "  </thead>\n",
       "  <tbody>\n",
       "    <tr>\n",
       "      <th>0</th>\n",
       "      <td>2818</td>\n",
       "      <td>https://www.airbnb.com/rooms/2818</td>\n",
       "      <td>20210409161549</td>\n",
       "      <td>2021-04-12</td>\n",
       "      <td>Quiet Garden View Room &amp; Super Fast WiFi</td>\n",
       "      <td>Quiet Garden View Room &amp; Super Fast WiFi&lt;br /&gt;...</td>\n",
       "      <td>Indische Buurt (\"Indies Neighborhood\") is a ne...</td>\n",
       "      <td>https://a0.muscache.com/pictures/10272854/8dcc...</td>\n",
       "      <td>3159</td>\n",
       "      <td>https://www.airbnb.com/users/show/3159</td>\n",
       "      <td>...</td>\n",
       "      <td>10.0</td>\n",
       "      <td>9.0</td>\n",
       "      <td>10.0</td>\n",
       "      <td>NaN</td>\n",
       "      <td>t</td>\n",
       "      <td>1</td>\n",
       "      <td>0</td>\n",
       "      <td>1</td>\n",
       "      <td>0</td>\n",
       "      <td>1.90</td>\n",
       "    </tr>\n",
       "    <tr>\n",
       "      <th>1</th>\n",
       "      <td>20168</td>\n",
       "      <td>https://www.airbnb.com/rooms/20168</td>\n",
       "      <td>20210409161549</td>\n",
       "      <td>2021-04-12</td>\n",
       "      <td>Studio with private bathroom in the centre 1</td>\n",
       "      <td>17th century Dutch townhouse in the heart of t...</td>\n",
       "      <td>Located just in between famous central canals....</td>\n",
       "      <td>https://a0.muscache.com/pictures/69979628/fd6a...</td>\n",
       "      <td>59484</td>\n",
       "      <td>https://www.airbnb.com/users/show/59484</td>\n",
       "      <td>...</td>\n",
       "      <td>10.0</td>\n",
       "      <td>10.0</td>\n",
       "      <td>9.0</td>\n",
       "      <td>0363 CBB3 2C10 0C2A 1E29</td>\n",
       "      <td>t</td>\n",
       "      <td>2</td>\n",
       "      <td>0</td>\n",
       "      <td>2</td>\n",
       "      <td>0</td>\n",
       "      <td>2.50</td>\n",
       "    </tr>\n",
       "    <tr>\n",
       "      <th>2</th>\n",
       "      <td>25428</td>\n",
       "      <td>https://www.airbnb.com/rooms/25428</td>\n",
       "      <td>20210409161549</td>\n",
       "      <td>2021-04-11</td>\n",
       "      <td>Lovely, 1 bed apt in Ctr (w.lift) -3/20-6/20(f...</td>\n",
       "      <td>Lovely apt in Centre ( lift &amp; fireplace) near ...</td>\n",
       "      <td>NaN</td>\n",
       "      <td>https://a0.muscache.com/pictures/138431/7079a9...</td>\n",
       "      <td>56142</td>\n",
       "      <td>https://www.airbnb.com/users/show/56142</td>\n",
       "      <td>...</td>\n",
       "      <td>10.0</td>\n",
       "      <td>10.0</td>\n",
       "      <td>10.0</td>\n",
       "      <td>NaN</td>\n",
       "      <td>f</td>\n",
       "      <td>2</td>\n",
       "      <td>2</td>\n",
       "      <td>0</td>\n",
       "      <td>0</td>\n",
       "      <td>0.13</td>\n",
       "    </tr>\n",
       "    <tr>\n",
       "      <th>3</th>\n",
       "      <td>27886</td>\n",
       "      <td>https://www.airbnb.com/rooms/27886</td>\n",
       "      <td>20210409161549</td>\n",
       "      <td>2021-04-11</td>\n",
       "      <td>Romantic, stylish B&amp;B houseboat in canal district</td>\n",
       "      <td>Stylish and romantic houseboat on fantastic hi...</td>\n",
       "      <td>Central, quiet, safe, clean and beautiful.</td>\n",
       "      <td>https://a0.muscache.com/pictures/02c2da9d-660e...</td>\n",
       "      <td>97647</td>\n",
       "      <td>https://www.airbnb.com/users/show/97647</td>\n",
       "      <td>...</td>\n",
       "      <td>10.0</td>\n",
       "      <td>10.0</td>\n",
       "      <td>10.0</td>\n",
       "      <td>0363 974D 4986 7411 88D8</td>\n",
       "      <td>t</td>\n",
       "      <td>1</td>\n",
       "      <td>0</td>\n",
       "      <td>1</td>\n",
       "      <td>0</td>\n",
       "      <td>1.94</td>\n",
       "    </tr>\n",
       "    <tr>\n",
       "      <th>4</th>\n",
       "      <td>28871</td>\n",
       "      <td>https://www.airbnb.com/rooms/28871</td>\n",
       "      <td>20210409161549</td>\n",
       "      <td>2021-04-13</td>\n",
       "      <td>Comfortable double room</td>\n",
       "      <td>&lt;b&gt;The space&lt;/b&gt;&lt;br /&gt;In a monumental house ri...</td>\n",
       "      <td>Flower market , Leidseplein , Rembrantsplein</td>\n",
       "      <td>https://a0.muscache.com/pictures/160889/362340...</td>\n",
       "      <td>124245</td>\n",
       "      <td>https://www.airbnb.com/users/show/124245</td>\n",
       "      <td>...</td>\n",
       "      <td>10.0</td>\n",
       "      <td>10.0</td>\n",
       "      <td>10.0</td>\n",
       "      <td>0363 607B EA74 0BD8 2F6F</td>\n",
       "      <td>f</td>\n",
       "      <td>2</td>\n",
       "      <td>0</td>\n",
       "      <td>2</td>\n",
       "      <td>0</td>\n",
       "      <td>2.59</td>\n",
       "    </tr>\n",
       "  </tbody>\n",
       "</table>\n",
       "<p>5 rows × 74 columns</p>\n",
       "</div>"
      ],
      "text/plain": [
       "      id                         listing_url       scrape_id last_scraped  \\\n",
       "0   2818   https://www.airbnb.com/rooms/2818  20210409161549   2021-04-12   \n",
       "1  20168  https://www.airbnb.com/rooms/20168  20210409161549   2021-04-12   \n",
       "2  25428  https://www.airbnb.com/rooms/25428  20210409161549   2021-04-11   \n",
       "3  27886  https://www.airbnb.com/rooms/27886  20210409161549   2021-04-11   \n",
       "4  28871  https://www.airbnb.com/rooms/28871  20210409161549   2021-04-13   \n",
       "\n",
       "                                                name  \\\n",
       "0           Quiet Garden View Room & Super Fast WiFi   \n",
       "1       Studio with private bathroom in the centre 1   \n",
       "2  Lovely, 1 bed apt in Ctr (w.lift) -3/20-6/20(f...   \n",
       "3  Romantic, stylish B&B houseboat in canal district   \n",
       "4                            Comfortable double room   \n",
       "\n",
       "                                         description  \\\n",
       "0  Quiet Garden View Room & Super Fast WiFi<br />...   \n",
       "1  17th century Dutch townhouse in the heart of t...   \n",
       "2  Lovely apt in Centre ( lift & fireplace) near ...   \n",
       "3  Stylish and romantic houseboat on fantastic hi...   \n",
       "4  <b>The space</b><br />In a monumental house ri...   \n",
       "\n",
       "                               neighborhood_overview  \\\n",
       "0  Indische Buurt (\"Indies Neighborhood\") is a ne...   \n",
       "1  Located just in between famous central canals....   \n",
       "2                                                NaN   \n",
       "3         Central, quiet, safe, clean and beautiful.   \n",
       "4       Flower market , Leidseplein , Rembrantsplein   \n",
       "\n",
       "                                         picture_url  host_id  \\\n",
       "0  https://a0.muscache.com/pictures/10272854/8dcc...     3159   \n",
       "1  https://a0.muscache.com/pictures/69979628/fd6a...    59484   \n",
       "2  https://a0.muscache.com/pictures/138431/7079a9...    56142   \n",
       "3  https://a0.muscache.com/pictures/02c2da9d-660e...    97647   \n",
       "4  https://a0.muscache.com/pictures/160889/362340...   124245   \n",
       "\n",
       "                                   host_url  ... review_scores_communication  \\\n",
       "0    https://www.airbnb.com/users/show/3159  ...                        10.0   \n",
       "1   https://www.airbnb.com/users/show/59484  ...                        10.0   \n",
       "2   https://www.airbnb.com/users/show/56142  ...                        10.0   \n",
       "3   https://www.airbnb.com/users/show/97647  ...                        10.0   \n",
       "4  https://www.airbnb.com/users/show/124245  ...                        10.0   \n",
       "\n",
       "  review_scores_location review_scores_value                   license  \\\n",
       "0                    9.0                10.0                       NaN   \n",
       "1                   10.0                 9.0  0363 CBB3 2C10 0C2A 1E29   \n",
       "2                   10.0                10.0                       NaN   \n",
       "3                   10.0                10.0  0363 974D 4986 7411 88D8   \n",
       "4                   10.0                10.0  0363 607B EA74 0BD8 2F6F   \n",
       "\n",
       "  instant_bookable  calculated_host_listings_count  \\\n",
       "0                t                               1   \n",
       "1                t                               2   \n",
       "2                f                               2   \n",
       "3                t                               1   \n",
       "4                f                               2   \n",
       "\n",
       "   calculated_host_listings_count_entire_homes  \\\n",
       "0                                            0   \n",
       "1                                            0   \n",
       "2                                            2   \n",
       "3                                            0   \n",
       "4                                            0   \n",
       "\n",
       "  calculated_host_listings_count_private_rooms  \\\n",
       "0                                            1   \n",
       "1                                            2   \n",
       "2                                            0   \n",
       "3                                            1   \n",
       "4                                            2   \n",
       "\n",
       "  calculated_host_listings_count_shared_rooms reviews_per_month  \n",
       "0                                           0              1.90  \n",
       "1                                           0              2.50  \n",
       "2                                           0              0.13  \n",
       "3                                           0              1.94  \n",
       "4                                           0              2.59  \n",
       "\n",
       "[5 rows x 74 columns]"
      ]
     },
     "execution_count": 3,
     "metadata": {},
     "output_type": "execute_result"
    }
   ],
   "source": [
    "df.head()"
   ]
  },
  {
   "cell_type": "code",
   "execution_count": 4,
   "id": "a7bf3dfa",
   "metadata": {
    "execution": {
     "iopub.execute_input": "2024-09-11T21:41:13.501093Z",
     "iopub.status.busy": "2024-09-11T21:41:13.500670Z",
     "iopub.status.idle": "2024-09-11T21:41:13.506947Z",
     "shell.execute_reply": "2024-09-11T21:41:13.505901Z"
    },
    "papermill": {
     "duration": 0.017788,
     "end_time": "2024-09-11T21:41:13.509223",
     "exception": false,
     "start_time": "2024-09-11T21:41:13.491435",
     "status": "completed"
    },
    "tags": []
   },
   "outputs": [],
   "source": [
    "df['score_rating'] = df['review_scores_rating']"
   ]
  },
  {
   "cell_type": "code",
   "execution_count": 5,
   "id": "84738465",
   "metadata": {
    "execution": {
     "iopub.execute_input": "2024-09-11T21:41:13.526655Z",
     "iopub.status.busy": "2024-09-11T21:41:13.526208Z",
     "iopub.status.idle": "2024-09-11T21:41:13.534556Z",
     "shell.execute_reply": "2024-09-11T21:41:13.533449Z"
    },
    "papermill": {
     "duration": 0.019819,
     "end_time": "2024-09-11T21:41:13.537017",
     "exception": false,
     "start_time": "2024-09-11T21:41:13.517198",
     "status": "completed"
    },
    "tags": []
   },
   "outputs": [
    {
     "data": {
      "text/plain": [
       "2638"
      ]
     },
     "execution_count": 5,
     "metadata": {},
     "output_type": "execute_result"
    }
   ],
   "source": [
    "df['score_rating'].isna().sum()"
   ]
  },
  {
   "cell_type": "code",
   "execution_count": 6,
   "id": "2f4f7882",
   "metadata": {
    "execution": {
     "iopub.execute_input": "2024-09-11T21:41:13.554555Z",
     "iopub.status.busy": "2024-09-11T21:41:13.554124Z",
     "iopub.status.idle": "2024-09-11T21:41:13.563978Z",
     "shell.execute_reply": "2024-09-11T21:41:13.562839Z"
    },
    "papermill": {
     "duration": 0.021686,
     "end_time": "2024-09-11T21:41:13.566472",
     "exception": false,
     "start_time": "2024-09-11T21:41:13.544786",
     "status": "completed"
    },
    "tags": []
   },
   "outputs": [
    {
     "data": {
      "text/plain": [
       "0         98.0\n",
       "1         89.0\n",
       "2        100.0\n",
       "3         99.0\n",
       "4         97.0\n",
       "         ...  \n",
       "17820      NaN\n",
       "17821      NaN\n",
       "17822      NaN\n",
       "17823      NaN\n",
       "17824      NaN\n",
       "Name: score_rating, Length: 17825, dtype: float64"
      ]
     },
     "execution_count": 6,
     "metadata": {},
     "output_type": "execute_result"
    }
   ],
   "source": [
    "df['score_rating']"
   ]
  },
  {
   "cell_type": "code",
   "execution_count": 7,
   "id": "d0af4688",
   "metadata": {
    "execution": {
     "iopub.execute_input": "2024-09-11T21:41:13.584737Z",
     "iopub.status.busy": "2024-09-11T21:41:13.583980Z",
     "iopub.status.idle": "2024-09-11T21:41:13.589975Z",
     "shell.execute_reply": "2024-09-11T21:41:13.588923Z"
    },
    "papermill": {
     "duration": 0.017897,
     "end_time": "2024-09-11T21:41:13.592367",
     "exception": false,
     "start_time": "2024-09-11T21:41:13.574470",
     "status": "completed"
    },
    "tags": []
   },
   "outputs": [],
   "source": [
    "score_rating =  df['score_rating'].dropna()"
   ]
  },
  {
   "cell_type": "code",
   "execution_count": 8,
   "id": "221c20ec",
   "metadata": {
    "execution": {
     "iopub.execute_input": "2024-09-11T21:41:13.610100Z",
     "iopub.status.busy": "2024-09-11T21:41:13.609639Z",
     "iopub.status.idle": "2024-09-11T21:41:13.618926Z",
     "shell.execute_reply": "2024-09-11T21:41:13.617739Z"
    },
    "papermill": {
     "duration": 0.021014,
     "end_time": "2024-09-11T21:41:13.621323",
     "exception": false,
     "start_time": "2024-09-11T21:41:13.600309",
     "status": "completed"
    },
    "tags": []
   },
   "outputs": [
    {
     "data": {
      "text/plain": [
       "0         98.0\n",
       "1         89.0\n",
       "2        100.0\n",
       "3         99.0\n",
       "4         97.0\n",
       "         ...  \n",
       "17745    100.0\n",
       "17748    100.0\n",
       "17750    100.0\n",
       "17763    100.0\n",
       "17764     70.0\n",
       "Name: score_rating, Length: 15187, dtype: float64"
      ]
     },
     "execution_count": 8,
     "metadata": {},
     "output_type": "execute_result"
    }
   ],
   "source": [
    "score_rating"
   ]
  },
  {
   "cell_type": "code",
   "execution_count": 9,
   "id": "b15b8fae",
   "metadata": {
    "execution": {
     "iopub.execute_input": "2024-09-11T21:41:13.639248Z",
     "iopub.status.busy": "2024-09-11T21:41:13.638452Z",
     "iopub.status.idle": "2024-09-11T21:41:13.647669Z",
     "shell.execute_reply": "2024-09-11T21:41:13.646647Z"
    },
    "papermill": {
     "duration": 0.020995,
     "end_time": "2024-09-11T21:41:13.650232",
     "exception": false,
     "start_time": "2024-09-11T21:41:13.629237",
     "status": "completed"
    },
    "tags": []
   },
   "outputs": [
    {
     "data": {
      "text/plain": [
       "0         98.0\n",
       "1         89.0\n",
       "2        100.0\n",
       "3         99.0\n",
       "4         97.0\n",
       "         ...  \n",
       "17745    100.0\n",
       "17748    100.0\n",
       "17750    100.0\n",
       "17763    100.0\n",
       "17764     70.0\n",
       "Name: score_rating, Length: 15187, dtype: float64"
      ]
     },
     "execution_count": 9,
     "metadata": {},
     "output_type": "execute_result"
    }
   ],
   "source": [
    "score_rating"
   ]
  },
  {
   "cell_type": "code",
   "execution_count": 10,
   "id": "98b76041",
   "metadata": {
    "execution": {
     "iopub.execute_input": "2024-09-11T21:41:13.668686Z",
     "iopub.status.busy": "2024-09-11T21:41:13.667928Z",
     "iopub.status.idle": "2024-09-11T21:41:13.674467Z",
     "shell.execute_reply": "2024-09-11T21:41:13.673377Z"
    },
    "papermill": {
     "duration": 0.018516,
     "end_time": "2024-09-11T21:41:13.676992",
     "exception": false,
     "start_time": "2024-09-11T21:41:13.658476",
     "status": "completed"
    },
    "tags": []
   },
   "outputs": [],
   "source": [
    "price = df['price'].dropna()\n",
    "price = price[price >=1]"
   ]
  },
  {
   "cell_type": "code",
   "execution_count": 11,
   "id": "b9601069",
   "metadata": {
    "execution": {
     "iopub.execute_input": "2024-09-11T21:41:13.695180Z",
     "iopub.status.busy": "2024-09-11T21:41:13.694739Z",
     "iopub.status.idle": "2024-09-11T21:41:13.701625Z",
     "shell.execute_reply": "2024-09-11T21:41:13.700619Z"
    },
    "papermill": {
     "duration": 0.018761,
     "end_time": "2024-09-11T21:41:13.703952",
     "exception": false,
     "start_time": "2024-09-11T21:41:13.685191",
     "status": "completed"
    },
    "tags": []
   },
   "outputs": [],
   "source": [
    "qnt = np.quantile(price, 0.78)"
   ]
  },
  {
   "cell_type": "code",
   "execution_count": 12,
   "id": "69969be2",
   "metadata": {
    "execution": {
     "iopub.execute_input": "2024-09-11T21:41:13.722598Z",
     "iopub.status.busy": "2024-09-11T21:41:13.721629Z",
     "iopub.status.idle": "2024-09-11T21:41:13.729766Z",
     "shell.execute_reply": "2024-09-11T21:41:13.728684Z"
    },
    "papermill": {
     "duration": 0.020225,
     "end_time": "2024-09-11T21:41:13.732438",
     "exception": false,
     "start_time": "2024-09-11T21:41:13.712213",
     "status": "completed"
    },
    "tags": []
   },
   "outputs": [
    {
     "data": {
      "text/plain": [
       "4"
      ]
     },
     "execution_count": 12,
     "metadata": {},
     "output_type": "execute_result"
    }
   ],
   "source": [
    "price.min()"
   ]
  },
  {
   "cell_type": "code",
   "execution_count": 13,
   "id": "7bfb2e05",
   "metadata": {
    "execution": {
     "iopub.execute_input": "2024-09-11T21:41:13.751016Z",
     "iopub.status.busy": "2024-09-11T21:41:13.750570Z",
     "iopub.status.idle": "2024-09-11T21:41:13.758842Z",
     "shell.execute_reply": "2024-09-11T21:41:13.757903Z"
    },
    "papermill": {
     "duration": 0.020316,
     "end_time": "2024-09-11T21:41:13.761065",
     "exception": false,
     "start_time": "2024-09-11T21:41:13.740749",
     "status": "completed"
    },
    "tags": []
   },
   "outputs": [
    {
     "data": {
      "text/plain": [
       "0         59\n",
       "1        200\n",
       "2        125\n",
       "3        141\n",
       "4         75\n",
       "        ... \n",
       "17820     47\n",
       "17821    200\n",
       "17822    112\n",
       "17823    107\n",
       "17824     94\n",
       "Name: price, Length: 17809, dtype: int64"
      ]
     },
     "execution_count": 13,
     "metadata": {},
     "output_type": "execute_result"
    }
   ],
   "source": [
    "price"
   ]
  },
  {
   "cell_type": "code",
   "execution_count": 14,
   "id": "b6485cb3",
   "metadata": {
    "execution": {
     "iopub.execute_input": "2024-09-11T21:41:13.780119Z",
     "iopub.status.busy": "2024-09-11T21:41:13.779665Z",
     "iopub.status.idle": "2024-09-11T21:41:13.789259Z",
     "shell.execute_reply": "2024-09-11T21:41:13.788178Z"
    },
    "papermill": {
     "duration": 0.021952,
     "end_time": "2024-09-11T21:41:13.791628",
     "exception": false,
     "start_time": "2024-09-11T21:41:13.769676",
     "status": "completed"
    },
    "tags": []
   },
   "outputs": [
    {
     "data": {
      "text/plain": [
       "1        200\n",
       "7        211\n",
       "11       250\n",
       "16       222\n",
       "21       750\n",
       "        ... \n",
       "17804    832\n",
       "17805    932\n",
       "17806    832\n",
       "17814    250\n",
       "17821    200\n",
       "Name: price, Length: 3866, dtype: int64"
      ]
     },
     "execution_count": 14,
     "metadata": {},
     "output_type": "execute_result"
    }
   ],
   "source": [
    "price_filt = price[price > qnt]\n",
    "price_filt"
   ]
  },
  {
   "cell_type": "code",
   "execution_count": 15,
   "id": "d03a0037",
   "metadata": {
    "execution": {
     "iopub.execute_input": "2024-09-11T21:41:13.811104Z",
     "iopub.status.busy": "2024-09-11T21:41:13.810660Z",
     "iopub.status.idle": "2024-09-11T21:41:13.818433Z",
     "shell.execute_reply": "2024-09-11T21:41:13.817388Z"
    },
    "papermill": {
     "duration": 0.020188,
     "end_time": "2024-09-11T21:41:13.820638",
     "exception": false,
     "start_time": "2024-09-11T21:41:13.800450",
     "status": "completed"
    },
    "tags": []
   },
   "outputs": [
    {
     "data": {
      "text/plain": [
       "300.7602172788412"
      ]
     },
     "execution_count": 15,
     "metadata": {},
     "output_type": "execute_result"
    }
   ],
   "source": [
    "np.mean(price_filt)"
   ]
  },
  {
   "cell_type": "code",
   "execution_count": 16,
   "id": "1c83d116",
   "metadata": {
    "execution": {
     "iopub.execute_input": "2024-09-11T21:41:13.840487Z",
     "iopub.status.busy": "2024-09-11T21:41:13.840045Z",
     "iopub.status.idle": "2024-09-11T21:41:13.848065Z",
     "shell.execute_reply": "2024-09-11T21:41:13.846905Z"
    },
    "papermill": {
     "duration": 0.021045,
     "end_time": "2024-09-11T21:41:13.850563",
     "exception": false,
     "start_time": "2024-09-11T21:41:13.829518",
     "status": "completed"
    },
    "tags": []
   },
   "outputs": [
    {
     "data": {
      "text/plain": [
       "154.6346790948397"
      ]
     },
     "execution_count": 16,
     "metadata": {},
     "output_type": "execute_result"
    }
   ],
   "source": [
    "mean_price = np.mean(price)\n",
    "mean_price"
   ]
  },
  {
   "cell_type": "code",
   "execution_count": 17,
   "id": "1f5b4068",
   "metadata": {
    "execution": {
     "iopub.execute_input": "2024-09-11T21:41:13.870705Z",
     "iopub.status.busy": "2024-09-11T21:41:13.870275Z",
     "iopub.status.idle": "2024-09-11T21:41:13.876329Z",
     "shell.execute_reply": "2024-09-11T21:41:13.875283Z"
    },
    "papermill": {
     "duration": 0.019063,
     "end_time": "2024-09-11T21:41:13.878685",
     "exception": false,
     "start_time": "2024-09-11T21:41:13.859622",
     "status": "completed"
    },
    "tags": []
   },
   "outputs": [],
   "source": [
    "price_below_mean = price[price < mean_price]"
   ]
  },
  {
   "cell_type": "code",
   "execution_count": 18,
   "id": "74bd6a2a",
   "metadata": {
    "execution": {
     "iopub.execute_input": "2024-09-11T21:41:13.898835Z",
     "iopub.status.busy": "2024-09-11T21:41:13.898408Z",
     "iopub.status.idle": "2024-09-11T21:41:13.906073Z",
     "shell.execute_reply": "2024-09-11T21:41:13.904751Z"
    },
    "papermill": {
     "duration": 0.020879,
     "end_time": "2024-09-11T21:41:13.908637",
     "exception": false,
     "start_time": "2024-09-11T21:41:13.887758",
     "status": "completed"
    },
    "tags": []
   },
   "outputs": [
    {
     "data": {
      "text/plain": [
       "66.1014093997417"
      ]
     },
     "execution_count": 18,
     "metadata": {},
     "output_type": "execute_result"
    }
   ],
   "source": [
    "(price_below_mean.size * 100) / price.size"
   ]
  },
  {
   "cell_type": "code",
   "execution_count": 19,
   "id": "1d1b60c6",
   "metadata": {
    "execution": {
     "iopub.execute_input": "2024-09-11T21:41:13.929431Z",
     "iopub.status.busy": "2024-09-11T21:41:13.928973Z",
     "iopub.status.idle": "2024-09-11T21:41:13.937338Z",
     "shell.execute_reply": "2024-09-11T21:41:13.936258Z"
    },
    "papermill": {
     "duration": 0.021443,
     "end_time": "2024-09-11T21:41:13.939750",
     "exception": false,
     "start_time": "2024-09-11T21:41:13.918307",
     "status": "completed"
    },
    "tags": []
   },
   "outputs": [
    {
     "data": {
      "text/plain": [
       "154.15787533000542"
      ]
     },
     "execution_count": 19,
     "metadata": {},
     "output_type": "execute_result"
    }
   ],
   "source": [
    "std_price = np.std(price)\n",
    "std_price"
   ]
  },
  {
   "cell_type": "code",
   "execution_count": 20,
   "id": "a82ccc3e",
   "metadata": {
    "execution": {
     "iopub.execute_input": "2024-09-11T21:41:13.960641Z",
     "iopub.status.busy": "2024-09-11T21:41:13.960193Z",
     "iopub.status.idle": "2024-09-11T21:41:13.967291Z",
     "shell.execute_reply": "2024-09-11T21:41:13.966301Z"
    },
    "papermill": {
     "duration": 0.02046,
     "end_time": "2024-09-11T21:41:13.969722",
     "exception": false,
     "start_time": "2024-09-11T21:41:13.949262",
     "status": "completed"
    },
    "tags": []
   },
   "outputs": [
    {
     "data": {
      "text/plain": [
       "308.7925544248451"
      ]
     },
     "execution_count": 20,
     "metadata": {},
     "output_type": "execute_result"
    }
   ],
   "source": [
    "std_price + mean_price"
   ]
  }
 ],
 "metadata": {
  "kaggle": {
   "accelerator": "none",
   "dataSources": [
    {
     "datasetId": 5682695,
     "sourceId": 9370004,
     "sourceType": "datasetVersion"
    }
   ],
   "dockerImageVersionId": 30761,
   "isGpuEnabled": false,
   "isInternetEnabled": true,
   "language": "python",
   "sourceType": "notebook"
  },
  "kernelspec": {
   "display_name": "Python 3",
   "language": "python",
   "name": "python3"
  },
  "language_info": {
   "codemirror_mode": {
    "name": "ipython",
    "version": 3
   },
   "file_extension": ".py",
   "mimetype": "text/x-python",
   "name": "python",
   "nbconvert_exporter": "python",
   "pygments_lexer": "ipython3",
   "version": "3.10.14"
  },
  "papermill": {
   "default_parameters": {},
   "duration": 37.859503,
   "end_time": "2024-09-11T21:41:14.500397",
   "environment_variables": {},
   "exception": null,
   "input_path": "__notebook__.ipynb",
   "output_path": "__notebook__.ipynb",
   "parameters": {},
   "start_time": "2024-09-11T21:40:36.640894",
   "version": "2.6.0"
  }
 },
 "nbformat": 4,
 "nbformat_minor": 5
}
