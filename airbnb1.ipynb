{
 "cells": [
  {
   "cell_type": "code",
   "execution_count": 1,
   "id": "1b0e3d7b",
   "metadata": {
    "_cell_guid": "b1076dfc-b9ad-4769-8c92-a6c4dae69d19",
    "_uuid": "8f2839f25d086af736a60e9eeb907d3b93b6e0e5",
    "execution": {
     "iopub.execute_input": "2024-09-12T22:46:50.748490Z",
     "iopub.status.busy": "2024-09-12T22:46:50.747871Z",
     "iopub.status.idle": "2024-09-12T22:46:51.361235Z",
     "shell.execute_reply": "2024-09-12T22:46:51.359886Z"
    },
    "papermill": {
     "duration": 0.626862,
     "end_time": "2024-09-12T22:46:51.364558",
     "exception": false,
     "start_time": "2024-09-12T22:46:50.737696",
     "status": "completed"
    },
    "tags": []
   },
   "outputs": [
    {
     "name": "stdout",
     "output_type": "stream",
     "text": [
      "/kaggle/input/airbnb-listing-amsterdam/zWFyatkpQgWhcmrZKSIFDw_4743be8d1e1549b28060905e4a4c24f1_listings_m.xlsx\n",
      "/kaggle/input/listings/listings.xlsx\n"
     ]
    }
   ],
   "source": [
    "# This Python 3 environment comes with many helpful analytics libraries installed\n",
    "# It is defined by the kaggle/python Docker image: https://github.com/kaggle/docker-python\n",
    "# For example, here's several helpful packages to load\n",
    "\n",
    "import numpy as np # linear algebra\n",
    "import pandas as pd # data processing, CSV file I/O (e.g. pd.read_csv)\n",
    "\n",
    "# Input data files are available in the read-only \"../input/\" directory\n",
    "# For example, running this (by clicking run or pressing Shift+Enter) will list all files under the input directory\n",
    "\n",
    "import os\n",
    "for dirname, _, filenames in os.walk('/kaggle/input'):\n",
    "    for filename in filenames:\n",
    "        print(os.path.join(dirname, filename))\n",
    "\n",
    "# You can write up to 20GB to the current directory (/kaggle/working/) that gets preserved as output when you create a version using \"Save & Run All\" \n",
    "# You can also write temporary files to /kaggle/temp/, but they won't be saved outside of the current session"
   ]
  },
  {
   "cell_type": "code",
   "execution_count": 2,
   "id": "28728d89",
   "metadata": {
    "execution": {
     "iopub.execute_input": "2024-09-12T22:46:51.389835Z",
     "iopub.status.busy": "2024-09-12T22:46:51.387723Z",
     "iopub.status.idle": "2024-09-12T22:47:27.311825Z",
     "shell.execute_reply": "2024-09-12T22:47:27.310532Z"
    },
    "papermill": {
     "duration": 35.946861,
     "end_time": "2024-09-12T22:47:27.322652",
     "exception": false,
     "start_time": "2024-09-12T22:46:51.375791",
     "status": "completed"
    },
    "tags": []
   },
   "outputs": [
    {
     "data": {
      "text/html": [
       "<div>\n",
       "<style scoped>\n",
       "    .dataframe tbody tr th:only-of-type {\n",
       "        vertical-align: middle;\n",
       "    }\n",
       "\n",
       "    .dataframe tbody tr th {\n",
       "        vertical-align: top;\n",
       "    }\n",
       "\n",
       "    .dataframe thead th {\n",
       "        text-align: right;\n",
       "    }\n",
       "</style>\n",
       "<table border=\"1\" class=\"dataframe\">\n",
       "  <thead>\n",
       "    <tr style=\"text-align: right;\">\n",
       "      <th></th>\n",
       "      <th>id</th>\n",
       "      <th>listing_url</th>\n",
       "      <th>scrape_id</th>\n",
       "      <th>last_scraped</th>\n",
       "      <th>name</th>\n",
       "      <th>description</th>\n",
       "      <th>neighborhood_overview</th>\n",
       "      <th>picture_url</th>\n",
       "      <th>host_id</th>\n",
       "      <th>host_url</th>\n",
       "      <th>...</th>\n",
       "      <th>review_scores_communication</th>\n",
       "      <th>review_scores_location</th>\n",
       "      <th>review_scores_value</th>\n",
       "      <th>license</th>\n",
       "      <th>instant_bookable</th>\n",
       "      <th>calculated_host_listings_count</th>\n",
       "      <th>calculated_host_listings_count_entire_homes</th>\n",
       "      <th>calculated_host_listings_count_private_rooms</th>\n",
       "      <th>calculated_host_listings_count_shared_rooms</th>\n",
       "      <th>reviews_per_month</th>\n",
       "    </tr>\n",
       "  </thead>\n",
       "  <tbody>\n",
       "    <tr>\n",
       "      <th>0</th>\n",
       "      <td>2818</td>\n",
       "      <td>https://www.airbnb.com/rooms/2818</td>\n",
       "      <td>20210409161549</td>\n",
       "      <td>2021-04-12</td>\n",
       "      <td>Quiet Garden View Room &amp; Super Fast WiFi</td>\n",
       "      <td>Quiet Garden View Room &amp; Super Fast WiFi&lt;br /&gt;...</td>\n",
       "      <td>Indische Buurt (\"Indies Neighborhood\") is a ne...</td>\n",
       "      <td>https://a0.muscache.com/pictures/10272854/8dcc...</td>\n",
       "      <td>3159</td>\n",
       "      <td>https://www.airbnb.com/users/show/3159</td>\n",
       "      <td>...</td>\n",
       "      <td>10.0</td>\n",
       "      <td>9.0</td>\n",
       "      <td>10.0</td>\n",
       "      <td>NaN</td>\n",
       "      <td>t</td>\n",
       "      <td>1</td>\n",
       "      <td>0</td>\n",
       "      <td>1</td>\n",
       "      <td>0</td>\n",
       "      <td>1.90</td>\n",
       "    </tr>\n",
       "    <tr>\n",
       "      <th>1</th>\n",
       "      <td>20168</td>\n",
       "      <td>https://www.airbnb.com/rooms/20168</td>\n",
       "      <td>20210409161549</td>\n",
       "      <td>2021-04-12</td>\n",
       "      <td>Studio with private bathroom in the centre 1</td>\n",
       "      <td>17th century Dutch townhouse in the heart of t...</td>\n",
       "      <td>Located just in between famous central canals....</td>\n",
       "      <td>https://a0.muscache.com/pictures/69979628/fd6a...</td>\n",
       "      <td>59484</td>\n",
       "      <td>https://www.airbnb.com/users/show/59484</td>\n",
       "      <td>...</td>\n",
       "      <td>10.0</td>\n",
       "      <td>10.0</td>\n",
       "      <td>9.0</td>\n",
       "      <td>0363 CBB3 2C10 0C2A 1E29</td>\n",
       "      <td>t</td>\n",
       "      <td>2</td>\n",
       "      <td>0</td>\n",
       "      <td>2</td>\n",
       "      <td>0</td>\n",
       "      <td>2.50</td>\n",
       "    </tr>\n",
       "    <tr>\n",
       "      <th>2</th>\n",
       "      <td>25428</td>\n",
       "      <td>https://www.airbnb.com/rooms/25428</td>\n",
       "      <td>20210409161549</td>\n",
       "      <td>2021-04-11</td>\n",
       "      <td>Lovely, 1 bed apt in Ctr (w.lift) -3/20-6/20(f...</td>\n",
       "      <td>Lovely apt in Centre ( lift &amp; fireplace) near ...</td>\n",
       "      <td>NaN</td>\n",
       "      <td>https://a0.muscache.com/pictures/138431/7079a9...</td>\n",
       "      <td>56142</td>\n",
       "      <td>https://www.airbnb.com/users/show/56142</td>\n",
       "      <td>...</td>\n",
       "      <td>10.0</td>\n",
       "      <td>10.0</td>\n",
       "      <td>10.0</td>\n",
       "      <td>NaN</td>\n",
       "      <td>f</td>\n",
       "      <td>2</td>\n",
       "      <td>2</td>\n",
       "      <td>0</td>\n",
       "      <td>0</td>\n",
       "      <td>0.13</td>\n",
       "    </tr>\n",
       "    <tr>\n",
       "      <th>3</th>\n",
       "      <td>27886</td>\n",
       "      <td>https://www.airbnb.com/rooms/27886</td>\n",
       "      <td>20210409161549</td>\n",
       "      <td>2021-04-11</td>\n",
       "      <td>Romantic, stylish B&amp;B houseboat in canal district</td>\n",
       "      <td>Stylish and romantic houseboat on fantastic hi...</td>\n",
       "      <td>Central, quiet, safe, clean and beautiful.</td>\n",
       "      <td>https://a0.muscache.com/pictures/02c2da9d-660e...</td>\n",
       "      <td>97647</td>\n",
       "      <td>https://www.airbnb.com/users/show/97647</td>\n",
       "      <td>...</td>\n",
       "      <td>10.0</td>\n",
       "      <td>10.0</td>\n",
       "      <td>10.0</td>\n",
       "      <td>0363 974D 4986 7411 88D8</td>\n",
       "      <td>t</td>\n",
       "      <td>1</td>\n",
       "      <td>0</td>\n",
       "      <td>1</td>\n",
       "      <td>0</td>\n",
       "      <td>1.94</td>\n",
       "    </tr>\n",
       "    <tr>\n",
       "      <th>4</th>\n",
       "      <td>28871</td>\n",
       "      <td>https://www.airbnb.com/rooms/28871</td>\n",
       "      <td>20210409161549</td>\n",
       "      <td>2021-04-13</td>\n",
       "      <td>Comfortable double room</td>\n",
       "      <td>&lt;b&gt;The space&lt;/b&gt;&lt;br /&gt;In a monumental house ri...</td>\n",
       "      <td>Flower market , Leidseplein , Rembrantsplein</td>\n",
       "      <td>https://a0.muscache.com/pictures/160889/362340...</td>\n",
       "      <td>124245</td>\n",
       "      <td>https://www.airbnb.com/users/show/124245</td>\n",
       "      <td>...</td>\n",
       "      <td>10.0</td>\n",
       "      <td>10.0</td>\n",
       "      <td>10.0</td>\n",
       "      <td>0363 607B EA74 0BD8 2F6F</td>\n",
       "      <td>f</td>\n",
       "      <td>2</td>\n",
       "      <td>0</td>\n",
       "      <td>2</td>\n",
       "      <td>0</td>\n",
       "      <td>2.59</td>\n",
       "    </tr>\n",
       "    <tr>\n",
       "      <th>...</th>\n",
       "      <td>...</td>\n",
       "      <td>...</td>\n",
       "      <td>...</td>\n",
       "      <td>...</td>\n",
       "      <td>...</td>\n",
       "      <td>...</td>\n",
       "      <td>...</td>\n",
       "      <td>...</td>\n",
       "      <td>...</td>\n",
       "      <td>...</td>\n",
       "      <td>...</td>\n",
       "      <td>...</td>\n",
       "      <td>...</td>\n",
       "      <td>...</td>\n",
       "      <td>...</td>\n",
       "      <td>...</td>\n",
       "      <td>...</td>\n",
       "      <td>...</td>\n",
       "      <td>...</td>\n",
       "      <td>...</td>\n",
       "      <td>...</td>\n",
       "    </tr>\n",
       "    <tr>\n",
       "      <th>17820</th>\n",
       "      <td>49085366</td>\n",
       "      <td>https://www.airbnb.com/rooms/49085366</td>\n",
       "      <td>20210409161549</td>\n",
       "      <td>2021-04-11</td>\n",
       "      <td>Kloveniers Studio</td>\n",
       "      <td>Great studio to enjoy a couple of days in Amst...</td>\n",
       "      <td>An oasis of calm in the middle of the city of ...</td>\n",
       "      <td>https://a0.muscache.com/pictures/f306ad6d-aa82...</td>\n",
       "      <td>395882585</td>\n",
       "      <td>https://www.airbnb.com/users/show/395882585</td>\n",
       "      <td>...</td>\n",
       "      <td>NaN</td>\n",
       "      <td>NaN</td>\n",
       "      <td>NaN</td>\n",
       "      <td>0363 B62C 0694 FC6B 277F</td>\n",
       "      <td>t</td>\n",
       "      <td>1</td>\n",
       "      <td>0</td>\n",
       "      <td>1</td>\n",
       "      <td>0</td>\n",
       "      <td>NaN</td>\n",
       "    </tr>\n",
       "    <tr>\n",
       "      <th>17821</th>\n",
       "      <td>49089176</td>\n",
       "      <td>https://www.airbnb.com/rooms/49089176</td>\n",
       "      <td>20210409161549</td>\n",
       "      <td>2021-04-11</td>\n",
       "      <td>Prachtig, gerenoveerd appartement in de Pijp!</td>\n",
       "      <td>Dit volledig gerenoveerde appartement is gesch...</td>\n",
       "      <td>NaN</td>\n",
       "      <td>https://a0.muscache.com/pictures/0692f782-b1b3...</td>\n",
       "      <td>68481315</td>\n",
       "      <td>https://www.airbnb.com/users/show/68481315</td>\n",
       "      <td>...</td>\n",
       "      <td>NaN</td>\n",
       "      <td>NaN</td>\n",
       "      <td>NaN</td>\n",
       "      <td>0363 A169 C048 6ED8 1C00</td>\n",
       "      <td>t</td>\n",
       "      <td>1</td>\n",
       "      <td>1</td>\n",
       "      <td>0</td>\n",
       "      <td>0</td>\n",
       "      <td>NaN</td>\n",
       "    </tr>\n",
       "    <tr>\n",
       "      <th>17822</th>\n",
       "      <td>49101225</td>\n",
       "      <td>https://www.airbnb.com/rooms/49101225</td>\n",
       "      <td>20210409161549</td>\n",
       "      <td>2021-04-12</td>\n",
       "      <td>Beautiful luxury loft close to city centre</td>\n",
       "      <td>THIS APARTMENT IS IN TRANSVAALBUURT: \"HAPPY NE...</td>\n",
       "      <td>The apartment is in Transvaalbuurt, a characte...</td>\n",
       "      <td>https://a0.muscache.com/pictures/195f53ba-8e82...</td>\n",
       "      <td>23204045</td>\n",
       "      <td>https://www.airbnb.com/users/show/23204045</td>\n",
       "      <td>...</td>\n",
       "      <td>NaN</td>\n",
       "      <td>NaN</td>\n",
       "      <td>NaN</td>\n",
       "      <td>03631DCF0C172B758647</td>\n",
       "      <td>f</td>\n",
       "      <td>1</td>\n",
       "      <td>1</td>\n",
       "      <td>0</td>\n",
       "      <td>0</td>\n",
       "      <td>NaN</td>\n",
       "    </tr>\n",
       "    <tr>\n",
       "      <th>17823</th>\n",
       "      <td>49102514</td>\n",
       "      <td>https://www.airbnb.com/rooms/49102514</td>\n",
       "      <td>20210409161549</td>\n",
       "      <td>2021-04-11</td>\n",
       "      <td>Cedo Nulli Dutch Holiday Boats</td>\n",
       "      <td>Brand new holiday boats with free parking loca...</td>\n",
       "      <td>Marina het Bosch is ideally located in Amsterd...</td>\n",
       "      <td>https://a0.muscache.com/pictures/prohost-api/H...</td>\n",
       "      <td>26206455</td>\n",
       "      <td>https://www.airbnb.com/users/show/26206455</td>\n",
       "      <td>...</td>\n",
       "      <td>NaN</td>\n",
       "      <td>NaN</td>\n",
       "      <td>NaN</td>\n",
       "      <td>Exempt</td>\n",
       "      <td>t</td>\n",
       "      <td>1</td>\n",
       "      <td>1</td>\n",
       "      <td>0</td>\n",
       "      <td>0</td>\n",
       "      <td>NaN</td>\n",
       "    </tr>\n",
       "    <tr>\n",
       "      <th>17824</th>\n",
       "      <td>49119460</td>\n",
       "      <td>https://www.airbnb.com/rooms/49119460</td>\n",
       "      <td>20210409161549</td>\n",
       "      <td>2021-04-11</td>\n",
       "      <td>New amazing 4 person Jordaan Apartment</td>\n",
       "      <td>Very luxurious and spacious apartment in the b...</td>\n",
       "      <td>NaN</td>\n",
       "      <td>https://a0.muscache.com/pictures/4f5ef2a4-655a...</td>\n",
       "      <td>37752619</td>\n",
       "      <td>https://www.airbnb.com/users/show/37752619</td>\n",
       "      <td>...</td>\n",
       "      <td>NaN</td>\n",
       "      <td>NaN</td>\n",
       "      <td>NaN</td>\n",
       "      <td>Exempt</td>\n",
       "      <td>t</td>\n",
       "      <td>6</td>\n",
       "      <td>6</td>\n",
       "      <td>0</td>\n",
       "      <td>0</td>\n",
       "      <td>NaN</td>\n",
       "    </tr>\n",
       "  </tbody>\n",
       "</table>\n",
       "<p>17825 rows × 74 columns</p>\n",
       "</div>"
      ],
      "text/plain": [
       "             id                            listing_url       scrape_id  \\\n",
       "0          2818      https://www.airbnb.com/rooms/2818  20210409161549   \n",
       "1         20168     https://www.airbnb.com/rooms/20168  20210409161549   \n",
       "2         25428     https://www.airbnb.com/rooms/25428  20210409161549   \n",
       "3         27886     https://www.airbnb.com/rooms/27886  20210409161549   \n",
       "4         28871     https://www.airbnb.com/rooms/28871  20210409161549   \n",
       "...         ...                                    ...             ...   \n",
       "17820  49085366  https://www.airbnb.com/rooms/49085366  20210409161549   \n",
       "17821  49089176  https://www.airbnb.com/rooms/49089176  20210409161549   \n",
       "17822  49101225  https://www.airbnb.com/rooms/49101225  20210409161549   \n",
       "17823  49102514  https://www.airbnb.com/rooms/49102514  20210409161549   \n",
       "17824  49119460  https://www.airbnb.com/rooms/49119460  20210409161549   \n",
       "\n",
       "      last_scraped                                               name  \\\n",
       "0       2021-04-12           Quiet Garden View Room & Super Fast WiFi   \n",
       "1       2021-04-12       Studio with private bathroom in the centre 1   \n",
       "2       2021-04-11  Lovely, 1 bed apt in Ctr (w.lift) -3/20-6/20(f...   \n",
       "3       2021-04-11  Romantic, stylish B&B houseboat in canal district   \n",
       "4       2021-04-13                            Comfortable double room   \n",
       "...            ...                                                ...   \n",
       "17820   2021-04-11                                  Kloveniers Studio   \n",
       "17821   2021-04-11      Prachtig, gerenoveerd appartement in de Pijp!   \n",
       "17822   2021-04-12         Beautiful luxury loft close to city centre   \n",
       "17823   2021-04-11                     Cedo Nulli Dutch Holiday Boats   \n",
       "17824   2021-04-11             New amazing 4 person Jordaan Apartment   \n",
       "\n",
       "                                             description  \\\n",
       "0      Quiet Garden View Room & Super Fast WiFi<br />...   \n",
       "1      17th century Dutch townhouse in the heart of t...   \n",
       "2      Lovely apt in Centre ( lift & fireplace) near ...   \n",
       "3      Stylish and romantic houseboat on fantastic hi...   \n",
       "4      <b>The space</b><br />In a monumental house ri...   \n",
       "...                                                  ...   \n",
       "17820  Great studio to enjoy a couple of days in Amst...   \n",
       "17821  Dit volledig gerenoveerde appartement is gesch...   \n",
       "17822  THIS APARTMENT IS IN TRANSVAALBUURT: \"HAPPY NE...   \n",
       "17823  Brand new holiday boats with free parking loca...   \n",
       "17824  Very luxurious and spacious apartment in the b...   \n",
       "\n",
       "                                   neighborhood_overview  \\\n",
       "0      Indische Buurt (\"Indies Neighborhood\") is a ne...   \n",
       "1      Located just in between famous central canals....   \n",
       "2                                                    NaN   \n",
       "3             Central, quiet, safe, clean and beautiful.   \n",
       "4           Flower market , Leidseplein , Rembrantsplein   \n",
       "...                                                  ...   \n",
       "17820  An oasis of calm in the middle of the city of ...   \n",
       "17821                                                NaN   \n",
       "17822  The apartment is in Transvaalbuurt, a characte...   \n",
       "17823  Marina het Bosch is ideally located in Amsterd...   \n",
       "17824                                                NaN   \n",
       "\n",
       "                                             picture_url    host_id  \\\n",
       "0      https://a0.muscache.com/pictures/10272854/8dcc...       3159   \n",
       "1      https://a0.muscache.com/pictures/69979628/fd6a...      59484   \n",
       "2      https://a0.muscache.com/pictures/138431/7079a9...      56142   \n",
       "3      https://a0.muscache.com/pictures/02c2da9d-660e...      97647   \n",
       "4      https://a0.muscache.com/pictures/160889/362340...     124245   \n",
       "...                                                  ...        ...   \n",
       "17820  https://a0.muscache.com/pictures/f306ad6d-aa82...  395882585   \n",
       "17821  https://a0.muscache.com/pictures/0692f782-b1b3...   68481315   \n",
       "17822  https://a0.muscache.com/pictures/195f53ba-8e82...   23204045   \n",
       "17823  https://a0.muscache.com/pictures/prohost-api/H...   26206455   \n",
       "17824  https://a0.muscache.com/pictures/4f5ef2a4-655a...   37752619   \n",
       "\n",
       "                                          host_url  ...  \\\n",
       "0           https://www.airbnb.com/users/show/3159  ...   \n",
       "1          https://www.airbnb.com/users/show/59484  ...   \n",
       "2          https://www.airbnb.com/users/show/56142  ...   \n",
       "3          https://www.airbnb.com/users/show/97647  ...   \n",
       "4         https://www.airbnb.com/users/show/124245  ...   \n",
       "...                                            ...  ...   \n",
       "17820  https://www.airbnb.com/users/show/395882585  ...   \n",
       "17821   https://www.airbnb.com/users/show/68481315  ...   \n",
       "17822   https://www.airbnb.com/users/show/23204045  ...   \n",
       "17823   https://www.airbnb.com/users/show/26206455  ...   \n",
       "17824   https://www.airbnb.com/users/show/37752619  ...   \n",
       "\n",
       "      review_scores_communication review_scores_location review_scores_value  \\\n",
       "0                            10.0                    9.0                10.0   \n",
       "1                            10.0                   10.0                 9.0   \n",
       "2                            10.0                   10.0                10.0   \n",
       "3                            10.0                   10.0                10.0   \n",
       "4                            10.0                   10.0                10.0   \n",
       "...                           ...                    ...                 ...   \n",
       "17820                         NaN                    NaN                 NaN   \n",
       "17821                         NaN                    NaN                 NaN   \n",
       "17822                         NaN                    NaN                 NaN   \n",
       "17823                         NaN                    NaN                 NaN   \n",
       "17824                         NaN                    NaN                 NaN   \n",
       "\n",
       "                        license instant_bookable  \\\n",
       "0                           NaN                t   \n",
       "1      0363 CBB3 2C10 0C2A 1E29                t   \n",
       "2                           NaN                f   \n",
       "3      0363 974D 4986 7411 88D8                t   \n",
       "4      0363 607B EA74 0BD8 2F6F                f   \n",
       "...                         ...              ...   \n",
       "17820  0363 B62C 0694 FC6B 277F                t   \n",
       "17821  0363 A169 C048 6ED8 1C00                t   \n",
       "17822      03631DCF0C172B758647                f   \n",
       "17823                    Exempt                t   \n",
       "17824                    Exempt                t   \n",
       "\n",
       "       calculated_host_listings_count  \\\n",
       "0                                   1   \n",
       "1                                   2   \n",
       "2                                   2   \n",
       "3                                   1   \n",
       "4                                   2   \n",
       "...                               ...   \n",
       "17820                               1   \n",
       "17821                               1   \n",
       "17822                               1   \n",
       "17823                               1   \n",
       "17824                               6   \n",
       "\n",
       "       calculated_host_listings_count_entire_homes  \\\n",
       "0                                                0   \n",
       "1                                                0   \n",
       "2                                                2   \n",
       "3                                                0   \n",
       "4                                                0   \n",
       "...                                            ...   \n",
       "17820                                            0   \n",
       "17821                                            1   \n",
       "17822                                            1   \n",
       "17823                                            1   \n",
       "17824                                            6   \n",
       "\n",
       "      calculated_host_listings_count_private_rooms  \\\n",
       "0                                                1   \n",
       "1                                                2   \n",
       "2                                                0   \n",
       "3                                                1   \n",
       "4                                                2   \n",
       "...                                            ...   \n",
       "17820                                            1   \n",
       "17821                                            0   \n",
       "17822                                            0   \n",
       "17823                                            0   \n",
       "17824                                            0   \n",
       "\n",
       "      calculated_host_listings_count_shared_rooms reviews_per_month  \n",
       "0                                               0              1.90  \n",
       "1                                               0              2.50  \n",
       "2                                               0              0.13  \n",
       "3                                               0              1.94  \n",
       "4                                               0              2.59  \n",
       "...                                           ...               ...  \n",
       "17820                                           0               NaN  \n",
       "17821                                           0               NaN  \n",
       "17822                                           0               NaN  \n",
       "17823                                           0               NaN  \n",
       "17824                                           0               NaN  \n",
       "\n",
       "[17825 rows x 74 columns]"
      ]
     },
     "execution_count": 2,
     "metadata": {},
     "output_type": "execute_result"
    }
   ],
   "source": [
    "df = pd.read_excel('/kaggle/input/airbnb-listing-amsterdam/zWFyatkpQgWhcmrZKSIFDw_4743be8d1e1549b28060905e4a4c24f1_listings_m.xlsx')\n",
    "df"
   ]
  },
  {
   "cell_type": "code",
   "execution_count": 3,
   "id": "9fff45c0",
   "metadata": {
    "execution": {
     "iopub.execute_input": "2024-09-12T22:47:27.341192Z",
     "iopub.status.busy": "2024-09-12T22:47:27.340543Z",
     "iopub.status.idle": "2024-09-12T22:47:27.360054Z",
     "shell.execute_reply": "2024-09-12T22:47:27.358912Z"
    },
    "papermill": {
     "duration": 0.031968,
     "end_time": "2024-09-12T22:47:27.362663",
     "exception": false,
     "start_time": "2024-09-12T22:47:27.330695",
     "status": "completed"
    },
    "tags": []
   },
   "outputs": [
    {
     "data": {
      "text/html": [
       "<div>\n",
       "<style scoped>\n",
       "    .dataframe tbody tr th:only-of-type {\n",
       "        vertical-align: middle;\n",
       "    }\n",
       "\n",
       "    .dataframe tbody tr th {\n",
       "        vertical-align: top;\n",
       "    }\n",
       "\n",
       "    .dataframe thead th {\n",
       "        text-align: right;\n",
       "    }\n",
       "</style>\n",
       "<table border=\"1\" class=\"dataframe\">\n",
       "  <thead>\n",
       "    <tr style=\"text-align: right;\">\n",
       "      <th></th>\n",
       "      <th>review_scores_communication</th>\n",
       "      <th>review_scores_rating</th>\n",
       "      <th>room_type</th>\n",
       "    </tr>\n",
       "  </thead>\n",
       "  <tbody>\n",
       "    <tr>\n",
       "      <th>0</th>\n",
       "      <td>10.0</td>\n",
       "      <td>98.0</td>\n",
       "      <td>Private room</td>\n",
       "    </tr>\n",
       "    <tr>\n",
       "      <th>1</th>\n",
       "      <td>10.0</td>\n",
       "      <td>89.0</td>\n",
       "      <td>Private room</td>\n",
       "    </tr>\n",
       "    <tr>\n",
       "      <th>2</th>\n",
       "      <td>10.0</td>\n",
       "      <td>100.0</td>\n",
       "      <td>Entire home/apt</td>\n",
       "    </tr>\n",
       "    <tr>\n",
       "      <th>3</th>\n",
       "      <td>10.0</td>\n",
       "      <td>99.0</td>\n",
       "      <td>Private room</td>\n",
       "    </tr>\n",
       "    <tr>\n",
       "      <th>4</th>\n",
       "      <td>10.0</td>\n",
       "      <td>97.0</td>\n",
       "      <td>Private room</td>\n",
       "    </tr>\n",
       "    <tr>\n",
       "      <th>...</th>\n",
       "      <td>...</td>\n",
       "      <td>...</td>\n",
       "      <td>...</td>\n",
       "    </tr>\n",
       "    <tr>\n",
       "      <th>17820</th>\n",
       "      <td>NaN</td>\n",
       "      <td>NaN</td>\n",
       "      <td>Private room</td>\n",
       "    </tr>\n",
       "    <tr>\n",
       "      <th>17821</th>\n",
       "      <td>NaN</td>\n",
       "      <td>NaN</td>\n",
       "      <td>Entire home/apt</td>\n",
       "    </tr>\n",
       "    <tr>\n",
       "      <th>17822</th>\n",
       "      <td>NaN</td>\n",
       "      <td>NaN</td>\n",
       "      <td>Entire home/apt</td>\n",
       "    </tr>\n",
       "    <tr>\n",
       "      <th>17823</th>\n",
       "      <td>NaN</td>\n",
       "      <td>NaN</td>\n",
       "      <td>Entire home/apt</td>\n",
       "    </tr>\n",
       "    <tr>\n",
       "      <th>17824</th>\n",
       "      <td>NaN</td>\n",
       "      <td>NaN</td>\n",
       "      <td>Entire home/apt</td>\n",
       "    </tr>\n",
       "  </tbody>\n",
       "</table>\n",
       "<p>17825 rows × 3 columns</p>\n",
       "</div>"
      ],
      "text/plain": [
       "       review_scores_communication  review_scores_rating        room_type\n",
       "0                             10.0                  98.0     Private room\n",
       "1                             10.0                  89.0     Private room\n",
       "2                             10.0                 100.0  Entire home/apt\n",
       "3                             10.0                  99.0     Private room\n",
       "4                             10.0                  97.0     Private room\n",
       "...                            ...                   ...              ...\n",
       "17820                          NaN                   NaN     Private room\n",
       "17821                          NaN                   NaN  Entire home/apt\n",
       "17822                          NaN                   NaN  Entire home/apt\n",
       "17823                          NaN                   NaN  Entire home/apt\n",
       "17824                          NaN                   NaN  Entire home/apt\n",
       "\n",
       "[17825 rows x 3 columns]"
      ]
     },
     "execution_count": 3,
     "metadata": {},
     "output_type": "execute_result"
    }
   ],
   "source": [
    "df2 = df[['review_scores_communication', 'review_scores_rating', 'room_type']]\n",
    "df2"
   ]
  },
  {
   "cell_type": "code",
   "execution_count": 4,
   "id": "1270df50",
   "metadata": {
    "execution": {
     "iopub.execute_input": "2024-09-12T22:47:27.381811Z",
     "iopub.status.busy": "2024-09-12T22:47:27.380736Z",
     "iopub.status.idle": "2024-09-12T22:47:27.390036Z",
     "shell.execute_reply": "2024-09-12T22:47:27.388502Z"
    },
    "papermill": {
     "duration": 0.0218,
     "end_time": "2024-09-12T22:47:27.392705",
     "exception": false,
     "start_time": "2024-09-12T22:47:27.370905",
     "status": "completed"
    },
    "tags": []
   },
   "outputs": [
    {
     "data": {
      "text/plain": [
       "17825"
      ]
     },
     "execution_count": 4,
     "metadata": {},
     "output_type": "execute_result"
    }
   ],
   "source": [
    "len(df2)"
   ]
  },
  {
   "cell_type": "code",
   "execution_count": 5,
   "id": "5cd0b3eb",
   "metadata": {
    "execution": {
     "iopub.execute_input": "2024-09-12T22:47:27.411257Z",
     "iopub.status.busy": "2024-09-12T22:47:27.410776Z",
     "iopub.status.idle": "2024-09-12T22:47:27.421629Z",
     "shell.execute_reply": "2024-09-12T22:47:27.420434Z"
    },
    "papermill": {
     "duration": 0.023405,
     "end_time": "2024-09-12T22:47:27.424285",
     "exception": false,
     "start_time": "2024-09-12T22:47:27.400880",
     "status": "completed"
    },
    "tags": []
   },
   "outputs": [],
   "source": [
    "df2 = df2.dropna()"
   ]
  },
  {
   "cell_type": "code",
   "execution_count": 6,
   "id": "20b35d49",
   "metadata": {
    "execution": {
     "iopub.execute_input": "2024-09-12T22:47:27.443612Z",
     "iopub.status.busy": "2024-09-12T22:47:27.443120Z",
     "iopub.status.idle": "2024-09-12T22:47:27.451808Z",
     "shell.execute_reply": "2024-09-12T22:47:27.450229Z"
    },
    "papermill": {
     "duration": 0.022241,
     "end_time": "2024-09-12T22:47:27.454808",
     "exception": false,
     "start_time": "2024-09-12T22:47:27.432567",
     "status": "completed"
    },
    "tags": []
   },
   "outputs": [
    {
     "data": {
      "text/plain": [
       "15176"
      ]
     },
     "execution_count": 6,
     "metadata": {},
     "output_type": "execute_result"
    }
   ],
   "source": [
    "len(df2)"
   ]
  },
  {
   "cell_type": "code",
   "execution_count": 7,
   "id": "0bc9bb92",
   "metadata": {
    "execution": {
     "iopub.execute_input": "2024-09-12T22:47:27.473487Z",
     "iopub.status.busy": "2024-09-12T22:47:27.473038Z",
     "iopub.status.idle": "2024-09-12T22:47:27.481083Z",
     "shell.execute_reply": "2024-09-12T22:47:27.479673Z"
    },
    "papermill": {
     "duration": 0.020414,
     "end_time": "2024-09-12T22:47:27.483683",
     "exception": false,
     "start_time": "2024-09-12T22:47:27.463269",
     "status": "completed"
    },
    "tags": []
   },
   "outputs": [],
   "source": [
    "df2 = df2[(df2['review_scores_communication']>0) & (df2['review_scores_rating']>0)]"
   ]
  },
  {
   "cell_type": "code",
   "execution_count": 8,
   "id": "f7d10f89",
   "metadata": {
    "execution": {
     "iopub.execute_input": "2024-09-12T22:47:27.503801Z",
     "iopub.status.busy": "2024-09-12T22:47:27.502576Z",
     "iopub.status.idle": "2024-09-12T22:47:27.512260Z",
     "shell.execute_reply": "2024-09-12T22:47:27.510939Z"
    },
    "papermill": {
     "duration": 0.023118,
     "end_time": "2024-09-12T22:47:27.515392",
     "exception": false,
     "start_time": "2024-09-12T22:47:27.492274",
     "status": "completed"
    },
    "tags": []
   },
   "outputs": [
    {
     "data": {
      "text/plain": [
       "2.0"
      ]
     },
     "execution_count": 8,
     "metadata": {},
     "output_type": "execute_result"
    }
   ],
   "source": [
    "df2['review_scores_communication'].min()"
   ]
  },
  {
   "cell_type": "code",
   "execution_count": 9,
   "id": "f3d1760c",
   "metadata": {
    "execution": {
     "iopub.execute_input": "2024-09-12T22:47:27.535317Z",
     "iopub.status.busy": "2024-09-12T22:47:27.534861Z",
     "iopub.status.idle": "2024-09-12T22:47:29.441433Z",
     "shell.execute_reply": "2024-09-12T22:47:29.440323Z"
    },
    "papermill": {
     "duration": 1.920321,
     "end_time": "2024-09-12T22:47:29.444695",
     "exception": false,
     "start_time": "2024-09-12T22:47:27.524374",
     "status": "completed"
    },
    "tags": []
   },
   "outputs": [],
   "source": [
    "import seaborn as sns\n",
    "import matplotlib.pyplot as plt"
   ]
  },
  {
   "cell_type": "code",
   "execution_count": 10,
   "id": "6b6b04de",
   "metadata": {
    "execution": {
     "iopub.execute_input": "2024-09-12T22:47:29.464327Z",
     "iopub.status.busy": "2024-09-12T22:47:29.463747Z",
     "iopub.status.idle": "2024-09-12T22:47:29.844031Z",
     "shell.execute_reply": "2024-09-12T22:47:29.842602Z"
    },
    "papermill": {
     "duration": 0.393264,
     "end_time": "2024-09-12T22:47:29.846911",
     "exception": false,
     "start_time": "2024-09-12T22:47:29.453647",
     "status": "completed"
    },
    "tags": []
   },
   "outputs": [
    {
     "data": {
      "image/png": "[encoded data removed]",
      "text/plain": [
       "<Figure size 640x480 with 1 Axes>"
      ]
     },
     "metadata": {},
     "output_type": "display_data"
    }
   ],
   "source": [
    "sns.scatterplot(x = df2['review_scores_communication'], y = df2['review_scores_rating'])\n",
    "plt.show()"
   ]
  },
  {
   "cell_type": "code",
   "execution_count": 11,
   "id": "d19f32dd",
   "metadata": {
    "execution": {
     "iopub.execute_input": "2024-09-12T22:47:29.867887Z",
     "iopub.status.busy": "2024-09-12T22:47:29.867365Z",
     "iopub.status.idle": "2024-09-12T22:47:29.882082Z",
     "shell.execute_reply": "2024-09-12T22:47:29.880820Z"
    },
    "papermill": {
     "duration": 0.028243,
     "end_time": "2024-09-12T22:47:29.884510",
     "exception": false,
     "start_time": "2024-09-12T22:47:29.856267",
     "status": "completed"
    },
    "tags": []
   },
   "outputs": [
    {
     "data": {
      "text/html": [
       "<div>\n",
       "<style scoped>\n",
       "    .dataframe tbody tr th:only-of-type {\n",
       "        vertical-align: middle;\n",
       "    }\n",
       "\n",
       "    .dataframe tbody tr th {\n",
       "        vertical-align: top;\n",
       "    }\n",
       "\n",
       "    .dataframe thead th {\n",
       "        text-align: right;\n",
       "    }\n",
       "</style>\n",
       "<table border=\"1\" class=\"dataframe\">\n",
       "  <thead>\n",
       "    <tr style=\"text-align: right;\">\n",
       "      <th></th>\n",
       "      <th>review_scores_communication</th>\n",
       "      <th>review_scores_rating</th>\n",
       "    </tr>\n",
       "  </thead>\n",
       "  <tbody>\n",
       "    <tr>\n",
       "      <th>review_scores_communication</th>\n",
       "      <td>1.000000</td>\n",
       "      <td>0.658239</td>\n",
       "    </tr>\n",
       "    <tr>\n",
       "      <th>review_scores_rating</th>\n",
       "      <td>0.658239</td>\n",
       "      <td>1.000000</td>\n",
       "    </tr>\n",
       "  </tbody>\n",
       "</table>\n",
       "</div>"
      ],
      "text/plain": [
       "                             review_scores_communication  review_scores_rating\n",
       "review_scores_communication                     1.000000              0.658239\n",
       "review_scores_rating                            0.658239              1.000000"
      ]
     },
     "execution_count": 11,
     "metadata": {},
     "output_type": "execute_result"
    }
   ],
   "source": [
    "corr  = df2[['review_scores_communication', 'review_scores_rating']].corr()\n",
    "corr"
   ]
  },
  {
   "cell_type": "code",
   "execution_count": 12,
   "id": "b5cd93f0",
   "metadata": {
    "execution": {
     "iopub.execute_input": "2024-09-12T22:47:29.905210Z",
     "iopub.status.busy": "2024-09-12T22:47:29.904700Z",
     "iopub.status.idle": "2024-09-12T22:47:29.921990Z",
     "shell.execute_reply": "2024-09-12T22:47:29.920528Z"
    },
    "papermill": {
     "duration": 0.03093,
     "end_time": "2024-09-12T22:47:29.924660",
     "exception": false,
     "start_time": "2024-09-12T22:47:29.893730",
     "status": "completed"
    },
    "tags": []
   },
   "outputs": [
    {
     "data": {
      "text/html": [
       "<div>\n",
       "<style scoped>\n",
       "    .dataframe tbody tr th:only-of-type {\n",
       "        vertical-align: middle;\n",
       "    }\n",
       "\n",
       "    .dataframe tbody tr th {\n",
       "        vertical-align: top;\n",
       "    }\n",
       "\n",
       "    .dataframe thead th {\n",
       "        text-align: right;\n",
       "    }\n",
       "</style>\n",
       "<table border=\"1\" class=\"dataframe\">\n",
       "  <thead>\n",
       "    <tr style=\"text-align: right;\">\n",
       "      <th></th>\n",
       "      <th>price</th>\n",
       "      <th>bedrooms</th>\n",
       "    </tr>\n",
       "  </thead>\n",
       "  <tbody>\n",
       "    <tr>\n",
       "      <th>0</th>\n",
       "      <td>59</td>\n",
       "      <td>1.0</td>\n",
       "    </tr>\n",
       "    <tr>\n",
       "      <th>1</th>\n",
       "      <td>200</td>\n",
       "      <td>1.0</td>\n",
       "    </tr>\n",
       "    <tr>\n",
       "      <th>2</th>\n",
       "      <td>125</td>\n",
       "      <td>1.0</td>\n",
       "    </tr>\n",
       "    <tr>\n",
       "      <th>3</th>\n",
       "      <td>141</td>\n",
       "      <td>1.0</td>\n",
       "    </tr>\n",
       "    <tr>\n",
       "      <th>4</th>\n",
       "      <td>75</td>\n",
       "      <td>1.0</td>\n",
       "    </tr>\n",
       "    <tr>\n",
       "      <th>...</th>\n",
       "      <td>...</td>\n",
       "      <td>...</td>\n",
       "    </tr>\n",
       "    <tr>\n",
       "      <th>17820</th>\n",
       "      <td>47</td>\n",
       "      <td>1.0</td>\n",
       "    </tr>\n",
       "    <tr>\n",
       "      <th>17821</th>\n",
       "      <td>200</td>\n",
       "      <td>1.0</td>\n",
       "    </tr>\n",
       "    <tr>\n",
       "      <th>17822</th>\n",
       "      <td>112</td>\n",
       "      <td>1.0</td>\n",
       "    </tr>\n",
       "    <tr>\n",
       "      <th>17823</th>\n",
       "      <td>107</td>\n",
       "      <td>2.0</td>\n",
       "    </tr>\n",
       "    <tr>\n",
       "      <th>17824</th>\n",
       "      <td>94</td>\n",
       "      <td>2.0</td>\n",
       "    </tr>\n",
       "  </tbody>\n",
       "</table>\n",
       "<p>17825 rows × 2 columns</p>\n",
       "</div>"
      ],
      "text/plain": [
       "       price  bedrooms\n",
       "0         59       1.0\n",
       "1        200       1.0\n",
       "2        125       1.0\n",
       "3        141       1.0\n",
       "4         75       1.0\n",
       "...      ...       ...\n",
       "17820     47       1.0\n",
       "17821    200       1.0\n",
       "17822    112       1.0\n",
       "17823    107       2.0\n",
       "17824     94       2.0\n",
       "\n",
       "[17825 rows x 2 columns]"
      ]
     },
     "execution_count": 12,
     "metadata": {},
     "output_type": "execute_result"
    }
   ],
   "source": [
    "df3 = df[['price', 'bedrooms']]\n",
    "df3"
   ]
  },
  {
   "cell_type": "code",
   "execution_count": 13,
   "id": "83a2b9af",
   "metadata": {
    "execution": {
     "iopub.execute_input": "2024-09-12T22:47:29.946148Z",
     "iopub.status.busy": "2024-09-12T22:47:29.944907Z",
     "iopub.status.idle": "2024-09-12T22:47:29.952922Z",
     "shell.execute_reply": "2024-09-12T22:47:29.951644Z"
    },
    "papermill": {
     "duration": 0.021524,
     "end_time": "2024-09-12T22:47:29.955592",
     "exception": false,
     "start_time": "2024-09-12T22:47:29.934068",
     "status": "completed"
    },
    "tags": []
   },
   "outputs": [],
   "source": [
    "df3 = df3.dropna()"
   ]
  },
  {
   "cell_type": "code",
   "execution_count": 14,
   "id": "bf0998af",
   "metadata": {
    "execution": {
     "iopub.execute_input": "2024-09-12T22:47:29.977500Z",
     "iopub.status.busy": "2024-09-12T22:47:29.976240Z",
     "iopub.status.idle": "2024-09-12T22:47:29.992532Z",
     "shell.execute_reply": "2024-09-12T22:47:29.991307Z"
    },
    "papermill": {
     "duration": 0.029903,
     "end_time": "2024-09-12T22:47:29.995051",
     "exception": false,
     "start_time": "2024-09-12T22:47:29.965148",
     "status": "completed"
    },
    "tags": []
   },
   "outputs": [
    {
     "data": {
      "text/html": [
       "<div>\n",
       "<style scoped>\n",
       "    .dataframe tbody tr th:only-of-type {\n",
       "        vertical-align: middle;\n",
       "    }\n",
       "\n",
       "    .dataframe tbody tr th {\n",
       "        vertical-align: top;\n",
       "    }\n",
       "\n",
       "    .dataframe thead th {\n",
       "        text-align: right;\n",
       "    }\n",
       "</style>\n",
       "<table border=\"1\" class=\"dataframe\">\n",
       "  <thead>\n",
       "    <tr style=\"text-align: right;\">\n",
       "      <th></th>\n",
       "      <th>price</th>\n",
       "      <th>bedrooms</th>\n",
       "    </tr>\n",
       "  </thead>\n",
       "  <tbody>\n",
       "    <tr>\n",
       "      <th>0</th>\n",
       "      <td>59</td>\n",
       "      <td>1.0</td>\n",
       "    </tr>\n",
       "    <tr>\n",
       "      <th>1</th>\n",
       "      <td>200</td>\n",
       "      <td>1.0</td>\n",
       "    </tr>\n",
       "    <tr>\n",
       "      <th>2</th>\n",
       "      <td>125</td>\n",
       "      <td>1.0</td>\n",
       "    </tr>\n",
       "    <tr>\n",
       "      <th>3</th>\n",
       "      <td>141</td>\n",
       "      <td>1.0</td>\n",
       "    </tr>\n",
       "    <tr>\n",
       "      <th>4</th>\n",
       "      <td>75</td>\n",
       "      <td>1.0</td>\n",
       "    </tr>\n",
       "    <tr>\n",
       "      <th>...</th>\n",
       "      <td>...</td>\n",
       "      <td>...</td>\n",
       "    </tr>\n",
       "    <tr>\n",
       "      <th>17820</th>\n",
       "      <td>47</td>\n",
       "      <td>1.0</td>\n",
       "    </tr>\n",
       "    <tr>\n",
       "      <th>17821</th>\n",
       "      <td>200</td>\n",
       "      <td>1.0</td>\n",
       "    </tr>\n",
       "    <tr>\n",
       "      <th>17822</th>\n",
       "      <td>112</td>\n",
       "      <td>1.0</td>\n",
       "    </tr>\n",
       "    <tr>\n",
       "      <th>17823</th>\n",
       "      <td>107</td>\n",
       "      <td>2.0</td>\n",
       "    </tr>\n",
       "    <tr>\n",
       "      <th>17824</th>\n",
       "      <td>94</td>\n",
       "      <td>2.0</td>\n",
       "    </tr>\n",
       "  </tbody>\n",
       "</table>\n",
       "<p>16858 rows × 2 columns</p>\n",
       "</div>"
      ],
      "text/plain": [
       "       price  bedrooms\n",
       "0         59       1.0\n",
       "1        200       1.0\n",
       "2        125       1.0\n",
       "3        141       1.0\n",
       "4         75       1.0\n",
       "...      ...       ...\n",
       "17820     47       1.0\n",
       "17821    200       1.0\n",
       "17822    112       1.0\n",
       "17823    107       2.0\n",
       "17824     94       2.0\n",
       "\n",
       "[16858 rows x 2 columns]"
      ]
     },
     "execution_count": 14,
     "metadata": {},
     "output_type": "execute_result"
    }
   ],
   "source": [
    "df3"
   ]
  },
  {
   "cell_type": "code",
   "execution_count": 15,
   "id": "e4cb6a01",
   "metadata": {
    "execution": {
     "iopub.execute_input": "2024-09-12T22:47:30.018431Z",
     "iopub.status.busy": "2024-09-12T22:47:30.017225Z",
     "iopub.status.idle": "2024-09-12T22:47:30.036905Z",
     "shell.execute_reply": "2024-09-12T22:47:30.035642Z"
    },
    "papermill": {
     "duration": 0.034162,
     "end_time": "2024-09-12T22:47:30.039757",
     "exception": false,
     "start_time": "2024-09-12T22:47:30.005595",
     "status": "completed"
    },
    "tags": []
   },
   "outputs": [
    {
     "data": {
      "text/html": [
       "<div>\n",
       "<style scoped>\n",
       "    .dataframe tbody tr th:only-of-type {\n",
       "        vertical-align: middle;\n",
       "    }\n",
       "\n",
       "    .dataframe tbody tr th {\n",
       "        vertical-align: top;\n",
       "    }\n",
       "\n",
       "    .dataframe thead th {\n",
       "        text-align: right;\n",
       "    }\n",
       "</style>\n",
       "<table border=\"1\" class=\"dataframe\">\n",
       "  <thead>\n",
       "    <tr style=\"text-align: right;\">\n",
       "      <th></th>\n",
       "      <th>price</th>\n",
       "      <th>bedrooms</th>\n",
       "    </tr>\n",
       "  </thead>\n",
       "  <tbody>\n",
       "    <tr>\n",
       "      <th>0</th>\n",
       "      <td>59</td>\n",
       "      <td>1.0</td>\n",
       "    </tr>\n",
       "    <tr>\n",
       "      <th>1</th>\n",
       "      <td>200</td>\n",
       "      <td>1.0</td>\n",
       "    </tr>\n",
       "    <tr>\n",
       "      <th>2</th>\n",
       "      <td>125</td>\n",
       "      <td>1.0</td>\n",
       "    </tr>\n",
       "    <tr>\n",
       "      <th>3</th>\n",
       "      <td>141</td>\n",
       "      <td>1.0</td>\n",
       "    </tr>\n",
       "    <tr>\n",
       "      <th>4</th>\n",
       "      <td>75</td>\n",
       "      <td>1.0</td>\n",
       "    </tr>\n",
       "    <tr>\n",
       "      <th>...</th>\n",
       "      <td>...</td>\n",
       "      <td>...</td>\n",
       "    </tr>\n",
       "    <tr>\n",
       "      <th>17820</th>\n",
       "      <td>47</td>\n",
       "      <td>1.0</td>\n",
       "    </tr>\n",
       "    <tr>\n",
       "      <th>17821</th>\n",
       "      <td>200</td>\n",
       "      <td>1.0</td>\n",
       "    </tr>\n",
       "    <tr>\n",
       "      <th>17822</th>\n",
       "      <td>112</td>\n",
       "      <td>1.0</td>\n",
       "    </tr>\n",
       "    <tr>\n",
       "      <th>17823</th>\n",
       "      <td>107</td>\n",
       "      <td>2.0</td>\n",
       "    </tr>\n",
       "    <tr>\n",
       "      <th>17824</th>\n",
       "      <td>94</td>\n",
       "      <td>2.0</td>\n",
       "    </tr>\n",
       "  </tbody>\n",
       "</table>\n",
       "<p>16308 rows × 2 columns</p>\n",
       "</div>"
      ],
      "text/plain": [
       "       price  bedrooms\n",
       "0         59       1.0\n",
       "1        200       1.0\n",
       "2        125       1.0\n",
       "3        141       1.0\n",
       "4         75       1.0\n",
       "...      ...       ...\n",
       "17820     47       1.0\n",
       "17821    200       1.0\n",
       "17822    112       1.0\n",
       "17823    107       2.0\n",
       "17824     94       2.0\n",
       "\n",
       "[16308 rows x 2 columns]"
      ]
     },
     "execution_count": 15,
     "metadata": {},
     "output_type": "execute_result"
    }
   ],
   "source": [
    "df3 = df3[(df3['price'] < 400 )&(df3['bedrooms'] < 5)]\n",
    "df3"
   ]
  },
  {
   "cell_type": "code",
   "execution_count": 16,
   "id": "7d4c3bc4",
   "metadata": {
    "execution": {
     "iopub.execute_input": "2024-09-12T22:47:30.062626Z",
     "iopub.status.busy": "2024-09-12T22:47:30.062071Z",
     "iopub.status.idle": "2024-09-12T22:47:30.072795Z",
     "shell.execute_reply": "2024-09-12T22:47:30.071463Z"
    },
    "papermill": {
     "duration": 0.025603,
     "end_time": "2024-09-12T22:47:30.075550",
     "exception": false,
     "start_time": "2024-09-12T22:47:30.049947",
     "status": "completed"
    },
    "tags": []
   },
   "outputs": [
    {
     "data": {
      "text/plain": [
       "price         int64\n",
       "bedrooms    float64\n",
       "dtype: object"
      ]
     },
     "execution_count": 16,
     "metadata": {},
     "output_type": "execute_result"
    }
   ],
   "source": [
    "df3.dtypes"
   ]
  },
  {
   "cell_type": "code",
   "execution_count": 17,
   "id": "1f0c5fe5",
   "metadata": {
    "execution": {
     "iopub.execute_input": "2024-09-12T22:47:30.099251Z",
     "iopub.status.busy": "2024-09-12T22:47:30.098793Z",
     "iopub.status.idle": "2024-09-12T22:47:30.429039Z",
     "shell.execute_reply": "2024-09-12T22:47:30.427661Z"
    },
    "papermill": {
     "duration": 0.3452,
     "end_time": "2024-09-12T22:47:30.431648",
     "exception": false,
     "start_time": "2024-09-12T22:47:30.086448",
     "status": "completed"
    },
    "tags": []
   },
   "outputs": [
    {
     "data": {
      "image/png": "[encoded data removed]",
      "text/plain": [
       "<Figure size 640x480 with 1 Axes>"
      ]
     },
     "metadata": {},
     "output_type": "display_data"
    }
   ],
   "source": [
    "sns.scatterplot(x = df3['price'], y = df3['bedrooms'])\n",
    "plt.show()"
   ]
  },
  {
   "cell_type": "code",
   "execution_count": 18,
   "id": "d8a6e255",
   "metadata": {
    "execution": {
     "iopub.execute_input": "2024-09-12T22:47:30.456045Z",
     "iopub.status.busy": "2024-09-12T22:47:30.455519Z",
     "iopub.status.idle": "2024-09-12T22:47:30.475245Z",
     "shell.execute_reply": "2024-09-12T22:47:30.473779Z"
    },
    "papermill": {
     "duration": 0.035049,
     "end_time": "2024-09-12T22:47:30.477888",
     "exception": false,
     "start_time": "2024-09-12T22:47:30.442839",
     "status": "completed"
    },
    "tags": []
   },
   "outputs": [
    {
     "data": {
      "text/html": [
       "<div>\n",
       "<style scoped>\n",
       "    .dataframe tbody tr th:only-of-type {\n",
       "        vertical-align: middle;\n",
       "    }\n",
       "\n",
       "    .dataframe tbody tr th {\n",
       "        vertical-align: top;\n",
       "    }\n",
       "\n",
       "    .dataframe thead th {\n",
       "        text-align: right;\n",
       "    }\n",
       "</style>\n",
       "<table border=\"1\" class=\"dataframe\">\n",
       "  <thead>\n",
       "    <tr style=\"text-align: right;\">\n",
       "      <th></th>\n",
       "      <th>price</th>\n",
       "      <th>bedrooms</th>\n",
       "    </tr>\n",
       "  </thead>\n",
       "  <tbody>\n",
       "    <tr>\n",
       "      <th>price</th>\n",
       "      <td>1.000000</td>\n",
       "      <td>0.467621</td>\n",
       "    </tr>\n",
       "    <tr>\n",
       "      <th>bedrooms</th>\n",
       "      <td>0.467621</td>\n",
       "      <td>1.000000</td>\n",
       "    </tr>\n",
       "  </tbody>\n",
       "</table>\n",
       "</div>"
      ],
      "text/plain": [
       "             price  bedrooms\n",
       "price     1.000000  0.467621\n",
       "bedrooms  0.467621  1.000000"
      ]
     },
     "execution_count": 18,
     "metadata": {},
     "output_type": "execute_result"
    }
   ],
   "source": [
    "corr_df3 = df3[['price','bedrooms']].corr(method = 'spearman')\n",
    "corr_df3"
   ]
  }
 ],
 "metadata": {
  "kaggle": {
   "accelerator": "none",
   "dataSources": [
    {
     "datasetId": 4346298,
     "sourceId": 7466702,
     "sourceType": "datasetVersion"
    },
    {
     "datasetId": 5682695,
     "sourceId": 9370004,
     "sourceType": "datasetVersion"
    },
    {
     "sourceId": 196424996,
     "sourceType": "kernelVersion"
    }
   ],
   "dockerImageVersionId": 30761,
   "isGpuEnabled": false,
   "isInternetEnabled": true,
   "language": "python",
   "sourceType": "notebook"
  },
  "kernelspec": {
   "display_name": "Python 3",
   "language": "python",
   "name": "python3"
  },
  "language_info": {
   "codemirror_mode": {
    "name": "ipython",
    "version": 3
   },
   "file_extension": ".py",
   "mimetype": "text/x-python",
   "name": "python",
   "nbconvert_exporter": "python",
   "pygments_lexer": "ipython3",
   "version": "3.10.14"
  },
  "papermill": {
   "default_parameters": {},
   "duration": 43.828333,
   "end_time": "2024-09-12T22:47:31.213346",
   "environment_variables": {},
   "exception": null,
   "input_path": "__notebook__.ipynb",
   "output_path": "__notebook__.ipynb",
   "parameters": {},
   "start_time": "2024-09-12T22:46:47.385013",
   "version": "2.6.0"
  }
 },
 "nbformat": 4,
 "nbformat_minor": 5
}
